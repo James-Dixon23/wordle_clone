{
 "cells": [
  {
   "cell_type": "markdown",
   "id": "87a070aa",
   "metadata": {},
   "source": [
    "# Wordle Clone\n",
    "## By James Dixon\n",
    "\n",
    "Wordle is a word guessing game in which a word is chosen at random and the player must guess the word correctly. When words are guessed, letters that match with the randomly chosen word are displayed if they are in the correct postion and other letters that are contained in the word but not in the correc position are also shown.\n",
    "\n",
    "This program mimics this process in a very basic sense, as it is done within the terminal of an IDE. Future updates to this game will include a GUI using tkinter.\n",
    "\n",
    "Library Requirments:\n",
    "1. Random\n",
    "2. typing\n",
    "3. tkinter (in future)\n",
    "\n",
    "To see examples of the game running, scroll to the bottom."
   ]
  },
  {
   "cell_type": "code",
   "execution_count": 1,
   "id": "bc8b2d4e",
   "metadata": {},
   "outputs": [],
   "source": [
    "import typing\n",
    "import random"
   ]
  },
  {
   "cell_type": "markdown",
   "id": "0559e8c0",
   "metadata": {},
   "source": [
    "Program is started with imports of both random and typing (tkinter to be added later)"
   ]
  },
  {
   "cell_type": "code",
   "execution_count": 2,
   "id": "a9bf0cd8",
   "metadata": {},
   "outputs": [],
   "source": [
    "with open('gamewords.txt', 'r') as file:\n",
    "    # Create an empty list to store the words and append each word to the list\n",
    "    game_words = []\n",
    "    for line in file:\n",
    "        line = line.strip()\n",
    "        game_words.append(line)"
   ]
  },
  {
   "cell_type": "markdown",
   "id": "46d8095c",
   "metadata": {},
   "source": [
    "A file titled 'gamewords.txt' is loaded and parsed through a loop to place each word into a list called game_words"
   ]
  },
  {
   "cell_type": "code",
   "execution_count": 3,
   "id": "e11349a3",
   "metadata": {},
   "outputs": [],
   "source": [
    "#function to get a guess from the user and return a valid guess in all capitals. \n",
    "#If the guess is not the correct length or not a valid word, give an error message and ask for another guess.\n",
    "\n",
    "def get_guess(word_len: int, word_list: typing.Set[str]):\n",
    "\n",
    "    #Get a guess from the user and return a valid guess in all capitals.\n",
    "    #else give error message\n",
    "\n",
    "    while True:\n",
    "        guess = input(\"Guess a word: \")\n",
    "        if len(guess) != word_len:\n",
    "            print(f\"Your guess must be {word_len} letters long.\")\n",
    "        elif guess not in word_list:\n",
    "            print(\"Your guess must be a valid word.\")\n",
    "        else:\n",
    "            guess = guess.upper()\n",
    "            return guess"
   ]
  },
  {
   "cell_type": "markdown",
   "id": "0608b19e",
   "metadata": {},
   "source": [
    "First the user will have to make a guess regardless so this is the first thing that was made. \n",
    "\n",
    "The user inputs a guess and if depending of the input, several errors can occur or the guess is placed in all upper case and returned"
   ]
  },
  {
   "cell_type": "code",
   "execution_count": 4,
   "id": "38a1e679",
   "metadata": {},
   "outputs": [],
   "source": [
    "def compare_word(expected: str, guess: str):\n",
    "\n",
    "    #Compare the expected word with the guess and return the number of matching letters.\n",
    "    #If the letter is in the correct place, add it to the in_place list.\n",
    "    #If the letter is in the wrong place, add it to the out_of_place list and add a blank space to in_place list.\n",
    "    #return both lists\n",
    "\n",
    "    in_place = []\n",
    "    out_of_place = []\n",
    "    for i in range(len(expected)):\n",
    "        if expected[i] == guess[i]:\n",
    "            in_place.append(expected[i])\n",
    "        elif (expected[i] in guess) and (expected[i] != guess[i]):\n",
    "            out_of_place.append(expected[i])\n",
    "            in_place.append(\"_\")\n",
    "        else:\n",
    "            in_place.append(\"_\")\n",
    "    return in_place, out_of_place"
   ]
  },
  {
   "cell_type": "markdown",
   "id": "261dffa6",
   "metadata": {},
   "source": [
    "Next, the game must have some way to compare the word to the guess made by the user.\n",
    "\n",
    "The function takes both the word and the guess and places it through a loop comparing the index of each word (each letter). If the letters are the same, the letter is appended to the in_place list. If a letter in the expected is in the word guess but not equal to the same index, this it is appended to the out_of_place list and a blank space is placed in the in_place list. If the letter in expected is no where in guess then a blank space is appened into in_place"
   ]
  },
  {
   "cell_type": "code",
   "execution_count": null,
   "id": "fab7807e",
   "metadata": {},
   "outputs": [],
   "source": [
    "#main function which runs the game by picking a random word from list and calling the get_guess and compare_word functions to allow the player to guess the word\n",
    "\n",
    "if __name__ == '__main__':\n",
    "    WORD = random.choice(game_words)\n",
    "    WORD = WORD.upper()\n",
    "    count =  0\n",
    "    \n",
    "#attempt to guess a word, if CTRL+C is pressed, exit the program\n",
    "    \n",
    "    try:\n",
    "        while True:\n",
    "            GUESS = get_guess(len(WORD), game_words)\n",
    "            if WORD == GUESS:\n",
    "                print(\"You win!\")\n",
    "                print(f\"It took you {count} guesses.\")\n",
    "                break\n",
    "\n",
    "#compare the guess with the word and print the number of letters in the correct place and the number of letters in the wrong place\n",
    "            \n",
    "            else:\n",
    "                compare = compare_word(WORD, GUESS)\n",
    "                print(f\"Letters in the correct place: {compare[0]}\")\n",
    "                print(f\"Letters in the wrong place: {compare[1]}\")\n",
    "                print(\"Try again!\")\n",
    "                count += 1\n",
    "#exit the program if CTRL+C is pressed\n",
    "   \n",
    "    except KeyboardInterrupt:\n",
    "        print(\"Bye!\")"
   ]
  },
  {
   "cell_type": "markdown",
   "id": "6cf1c637",
   "metadata": {},
   "source": [
    "Finally, the code is run with a main function that generates a random word from the game_words list and compares it to the guess of the user. If the users guess is incorrect then try again will be printed. If they are partially correct the in place letters and the out of place letters will be printe and when the user guesses correctly, you win is printed and the amount of guesses is outputted aswell.\n",
    "\n",
    "Alternatively the user can exit and a bye messege will be printed\n",
    "\n",
    "Below are some examples of the code being run."
   ]
  },
  {
   "cell_type": "code",
   "execution_count": 8,
   "id": "59717053",
   "metadata": {},
   "outputs": [
    {
     "name": "stdout",
     "output_type": "stream",
     "text": [
      "Guess a word: adieu\n",
      "Letters in the correct place: ['_', '_', '_', '_', '_']\n",
      "Letters in the wrong place: ['A']\n",
      "Try again!\n",
      "Guess a word: aboon\n",
      "Letters in the correct place: ['_', '_', '_', '_', 'N']\n",
      "Letters in the wrong place: ['A']\n",
      "Try again!\n",
      "Guess a word: bacon\n",
      "Letters in the correct place: ['_', '_', '_', '_', 'N']\n",
      "Letters in the wrong place: ['A']\n",
      "Try again!\n",
      "Guess a word: flawn\n",
      "Letters in the correct place: ['_', '_', 'A', '_', 'N']\n",
      "Letters in the wrong place: []\n",
      "Try again!\n",
      "Guess a word: skarn\n",
      "You win!\n",
      "It took you 5 guesses.\n"
     ]
    }
   ],
   "source": [
    "#main function which runs the game by picking a random word from list and calling the get_guess and compare_word functions to allow the player to guess the word\n",
    "\n",
    "if __name__ == '__main__':\n",
    "    WORD = random.choice(game_words)\n",
    "    WORD = WORD.upper()\n",
    "    count =  1\n",
    "\n",
    "#attempt to guess a word, if CTRL+C is pressed, exit the program\n",
    "    \n",
    "    try:\n",
    "        while True:\n",
    "            GUESS = get_guess(len(WORD), game_words)\n",
    "            if WORD == GUESS:\n",
    "                print(\"You win!\")\n",
    "                print(f\"It took you {count} guesses.\")\n",
    "                break\n",
    "\n",
    "#compare the guess with the word and print the number of letters in the correct place and the number of letters in the wrong place\n",
    "            \n",
    "            else:\n",
    "                compare = compare_word(WORD, GUESS)\n",
    "                print(f\"Letters in the correct place: {compare[0]}\")\n",
    "                print(f\"Letters in the wrong place: {compare[1]}\")\n",
    "                print(\"Try again!\")\n",
    "                count += 1\n",
    "#exit the program if CTRL+C is pressed\n",
    "   \n",
    "    except KeyboardInterrupt:\n",
    "        print(\"Bye!\")"
   ]
  },
  {
   "cell_type": "markdown",
   "id": "e6561bbf",
   "metadata": {},
   "source": [
    "Above is how the game would be normally played with 5 guesses. As seen the word is guessed and the letters are placed in there appropriate list."
   ]
  },
  {
   "cell_type": "code",
   "execution_count": 9,
   "id": "997f3bda",
   "metadata": {},
   "outputs": [
    {
     "name": "stdout",
     "output_type": "stream",
     "text": [
      "Guess a word: notaword\n",
      "Your guess must be 5 letters long.\n",
      "Guess a word: notaw\n",
      "Your guess must be a valid word.\n",
      "Bye!\n"
     ]
    }
   ],
   "source": [
    "#main function which runs the game by picking a random word from list and calling the get_guess and compare_word functions to allow the player to guess the word\n",
    "\n",
    "if __name__ == '__main__':\n",
    "    WORD = random.choice(game_words)\n",
    "    WORD = WORD.upper()\n",
    "    count =  1\n",
    "\n",
    "#attempt to guess a word, if CTRL+C is pressed, exit the program\n",
    "    \n",
    "    try:\n",
    "        while True:\n",
    "            GUESS = get_guess(len(WORD), game_words)\n",
    "            if WORD == GUESS:\n",
    "                print(\"You win!\")\n",
    "                print(f\"It took you {count} guesses.\")\n",
    "                break\n",
    "\n",
    "#compare the guess with the word and print the number of letters in the correct place and the number of letters in the wrong place\n",
    "            \n",
    "            else:\n",
    "                compare = compare_word(WORD, GUESS)\n",
    "                print(f\"Letters in the correct place: {compare[0]}\")\n",
    "                print(f\"Letters in the wrong place: {compare[1]}\")\n",
    "                print(\"Try again!\")\n",
    "                count += 1\n",
    "#exit the program if CTRL+C is pressed\n",
    "   \n",
    "    except KeyboardInterrupt:\n",
    "        print(\"Bye!\")"
   ]
  },
  {
   "cell_type": "markdown",
   "id": "cacae9ac",
   "metadata": {},
   "source": [
    "The above example is the error handling part of the program. If the word is not the right length or not part of the word list then an error is printed and the user is asked to guess again with no penelty to there guessing count.\n",
    "\n",
    "Also, as the program was exited early the bye! messege was printed as well."
   ]
  }
 ],
 "metadata": {
  "kernelspec": {
   "display_name": "Python 3 (ipykernel)",
   "language": "python",
   "name": "python3"
  },
  "language_info": {
   "codemirror_mode": {
    "name": "ipython",
    "version": 3
   },
   "file_extension": ".py",
   "mimetype": "text/x-python",
   "name": "python",
   "nbconvert_exporter": "python",
   "pygments_lexer": "ipython3",
   "version": "3.10.9"
  }
 },
 "nbformat": 4,
 "nbformat_minor": 5
}
